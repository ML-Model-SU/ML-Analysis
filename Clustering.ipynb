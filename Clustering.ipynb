{
 "cells": [
  {
   "cell_type": "code",
   "execution_count": 5,
   "metadata": {},
   "outputs": [],
   "source": [
    "# create table pemb(\n",
    "#     paragraph text,\n",
    "#     paraemb vector(384)\n",
    "# );"
   ]
  },
  {
   "cell_type": "code",
   "execution_count": 73,
   "metadata": {},
   "outputs": [],
   "source": [
    "import psycopg2\n",
    "import pandas as pd\n",
    "\n",
    "connection = psycopg2.connect(\n",
    "database=\"mlchatbot\",\n",
    "user=\"postgres\",\n",
    "password=\"#RNJ7773RNJ7773\",\n",
    "host=\"localhost\",\n",
    "port=\"5433\"\n",
    ")\n"
   ]
  },
  {
   "cell_type": "code",
   "execution_count": 74,
   "metadata": {},
   "outputs": [],
   "source": [
    "cursor=connection.cursor()"
   ]
  },
  {
   "cell_type": "code",
   "execution_count": 75,
   "metadata": {},
   "outputs": [],
   "source": [
    "cursor.execute(\"SELECT  * FROM pemb\")"
   ]
  },
  {
   "cell_type": "code",
   "execution_count": 79,
   "metadata": {},
   "outputs": [],
   "source": [
    "df=pd.read_csv(\"extracted_text2.csv\")"
   ]
  },
  {
   "cell_type": "code",
   "execution_count": 80,
   "metadata": {},
   "outputs": [],
   "source": [
    "from sentence_transformers import SentenceTransformer, util\n",
    "\n",
    "# Load a pre-trained Sentence Transformer model\n",
    "model = SentenceTransformer('all-MiniLM-L6-v2')\n",
    "\n"
   ]
  },
  {
   "cell_type": "code",
   "execution_count": 81,
   "metadata": {},
   "outputs": [],
   "source": [
    "insert_query = \"\"\"\n",
    "    INSERT INTO pemb(paragraph, paraemb)\n",
    "    VALUES (%s, %s)\n",
    "    \"\"\""
   ]
  },
  {
   "cell_type": "code",
   "execution_count": 82,
   "metadata": {},
   "outputs": [
    {
     "data": {
      "text/plain": [
       "Index(['Paragraph'], dtype='object')"
      ]
     },
     "execution_count": 82,
     "metadata": {},
     "output_type": "execute_result"
    }
   ],
   "source": [
    "df.columns"
   ]
  },
  {
   "cell_type": "code",
   "execution_count": 83,
   "metadata": {},
   "outputs": [],
   "source": [
    "# for i in range(len(df)):\n",
    "#     try:\n",
    "#         text = df.iloc[i][\"Paragraph\"]\n",
    "#         textemb = model.encode(text).tolist()\n",
    "#         cursor.execute(insert_query, (text, textemb))\n",
    "#     except Exception as e:\n",
    "#         print(f\"Error inserting row {i}: {e}\")\n",
    "#         break\n",
    "\n",
    "# connection.commit()\n"
   ]
  },
  {
   "cell_type": "code",
   "execution_count": 84,
   "metadata": {},
   "outputs": [],
   "source": [
    "cursor.execute(\"select * from pemb;\")"
   ]
  },
  {
   "cell_type": "code",
   "execution_count": 85,
   "metadata": {},
   "outputs": [],
   "source": [
    "result=cursor.fetchall()"
   ]
  },
  {
   "cell_type": "code",
   "execution_count": 16,
   "metadata": {},
   "outputs": [],
   "source": [
    "import ast\n",
    "import numpy as np\n",
    "\n",
    "listPara=[]\n",
    "listEmb=[]\n",
    "\n",
    "for i in result:\n",
    "    para=i[0]\n",
    "    emb=ast.literal_eval(i[1])\n",
    "    listPara.append(para)\n",
    "    listEmb.append(emb)"
   ]
  },
  {
   "cell_type": "code",
   "execution_count": 17,
   "metadata": {},
   "outputs": [],
   "source": [
    "data =np.array(listEmb)"
   ]
  },
  {
   "cell_type": "code",
   "execution_count": 31,
   "metadata": {},
   "outputs": [
    {
     "name": "stderr",
     "output_type": "stream",
     "text": [
      "c:\\New folder (2)\\Python312\\Lib\\site-packages\\sklearn\\cluster\\_kmeans.py:870: FutureWarning: The default value of `n_init` will change from 10 to 'auto' in 1.4. Set the value of `n_init` explicitly to suppress the warning\n",
      "  warnings.warn(\n"
     ]
    }
   ],
   "source": [
    "from sklearn.cluster import KMeans\n",
    "Kmean=KMeans(n_clusters=23,random_state=18)\n",
    "Kmean.fit(listEmb)\n",
    "labels=Kmean.labels_"
   ]
  },
  {
   "cell_type": "code",
   "execution_count": 32,
   "metadata": {},
   "outputs": [
    {
     "name": "stdout",
     "output_type": "stream",
     "text": [
      "[ 3  3  3  3  3  3  3  3  3  3  9  9  3  3  7  9  3  9  5  3  5  3  3  3\n",
      " 10 10  5  5  5  5  5  5  5  5  5  5  5  5  5  5  5  5  5  5  5  5 10 10\n",
      "  5  5  5  5  5  1  5 14 18  2 14 14 14  2  2 16 18 14 14 14  5 14  2 14\n",
      " 18 18 18 18 18  2  2 14  2 14 14 14  6 21 21 21 21  2 21  2 21  7  7 21\n",
      "  7  7  7  7  7 21  7  7  7  7  7  7  7 21 21  6 21  7 21  7 21  1 21 21\n",
      "  7  7  2  7 21 21 21 21 21  7 21  3  1 18  8 19 11 11 19 19 19 19 19 11\n",
      " 11 11 20 11 20 19 20 20 20 20  1 19 20  6 22 22 22  8  8  8  8  8  8  8\n",
      "  8 15  8  8  8  2  8  8  7  8  8 18 22 22 22 22 22 22 22  1 22 22 15 15\n",
      " 15 15 15 15 20  8 20  8 20  1 22 22  8 22  1  1  1  1  1  1  1  1  1  1\n",
      "  1  1  1  1  1  1  1  1  1  1  1  1  1  1  1  1 13  1  1  0  0  0  0  0\n",
      "  0  0  7  7  0  0 10 12  0  0  0  0  0  0 13 13 13 13 12 13 13 13 13 13\n",
      "  4 13 13 13 13 13 13 13 13 13 13 13 13 13 10 12 12  4  4  4  4  4  4  4\n",
      " 12 12 12  4  4 12 12 12  4 10 10 12 12 12 12  4 12  4 10 12 12 12 10 10\n",
      " 10 10 10 10 12 10 10 10 17 12 12 12 10 10 10 10 10 10 10  9  3  4 10 10\n",
      " 12  3 10 10 10 10 10  1 10 17 17 17 17 17 17 17 17 21 21 21 21 17 17 17\n",
      " 17 21 10 12 12 12  4 10 10  7  3  9  9  9  9 16  9 16 16 16 16 16 16 16\n",
      " 16 16 16 16 16  9  9 16  9  9 12  1  0  6 22  6  6  6  6  6  6  6  6  6\n",
      "  6  6  6  6]\n"
     ]
    }
   ],
   "source": [
    "print(labels)"
   ]
  },
  {
   "cell_type": "code",
   "execution_count": 69,
   "metadata": {},
   "outputs": [],
   "source": [
    "dflabel=pd.DataFrame({\"Text\":listPara,\"Category\":labels})"
   ]
  },
  {
   "cell_type": "code",
   "execution_count": 70,
   "metadata": {},
   "outputs": [
    {
     "data": {
      "text/html": [
       "<div>\n",
       "<style scoped>\n",
       "    .dataframe tbody tr th:only-of-type {\n",
       "        vertical-align: middle;\n",
       "    }\n",
       "\n",
       "    .dataframe tbody tr th {\n",
       "        vertical-align: top;\n",
       "    }\n",
       "\n",
       "    .dataframe thead th {\n",
       "        text-align: right;\n",
       "    }\n",
       "</style>\n",
       "<table border=\"1\" class=\"dataframe\">\n",
       "  <thead>\n",
       "    <tr style=\"text-align: right;\">\n",
       "      <th></th>\n",
       "      <th>Text</th>\n",
       "      <th>Category</th>\n",
       "    </tr>\n",
       "  </thead>\n",
       "  <tbody>\n",
       "    <tr>\n",
       "      <th>84</th>\n",
       "      <td>80 MACHINE LEARNING Quinlan, J. R., &amp; Rivest, ...</td>\n",
       "      <td>6</td>\n",
       "    </tr>\n",
       "    <tr>\n",
       "      <th>111</th>\n",
       "      <td>keep in mind that the network weight vectors r...</td>\n",
       "      <td>6</td>\n",
       "    </tr>\n",
       "    <tr>\n",
       "      <th>157</th>\n",
       "      <td>Geman, S., Bienenstock, E., &amp; Doursat, R. (199...</td>\n",
       "      <td>6</td>\n",
       "    </tr>\n",
       "    <tr>\n",
       "      <th>397</th>\n",
       "      <td>400 SUBJECT INDEX SUBJECT INDEX Page numbers i...</td>\n",
       "      <td>6</td>\n",
       "    </tr>\n",
       "    <tr>\n",
       "      <th>399</th>\n",
       "      <td>CART system, 77 CASCADE-CORRELATION algorithm,...</td>\n",
       "      <td>6</td>\n",
       "    </tr>\n",
       "    <tr>\n",
       "      <th>400</th>\n",
       "      <td>leave-one-out, 235 in neural network learning,...</td>\n",
       "      <td>6</td>\n",
       "    </tr>\n",
       "    <tr>\n",
       "      <th>401</th>\n",
       "      <td>Entailment, 321n relationship with 8-subsumpti...</td>\n",
       "      <td>6</td>\n",
       "    </tr>\n",
       "    <tr>\n",
       "      <th>402</th>\n",
       "      <td>extensions to, 258-259 ID5R algorithm, compari...</td>\n",
       "      <td>6</td>\n",
       "    </tr>\n",
       "    <tr>\n",
       "      <th>403</th>\n",
       "      <td>Hypotheses, estimation of accuracy (continued)...</td>\n",
       "      <td>6</td>\n",
       "    </tr>\n",
       "    <tr>\n",
       "      <th>404</th>\n",
       "      <td>of LMS algorithm, 64 of ROTE-LEARNER algorithm...</td>\n",
       "      <td>6</td>\n",
       "    </tr>\n",
       "    <tr>\n",
       "      <th>405</th>\n",
       "      <td>LEARN-ONE-RULE algorithm: FOIL algorithm, comp...</td>\n",
       "      <td>6</td>\n",
       "    </tr>\n",
       "    <tr>\n",
       "      <th>406</th>\n",
       "      <td>prediction of probabilities with, 167-170 MDP....</td>\n",
       "      <td>6</td>\n",
       "    </tr>\n",
       "    <tr>\n",
       "      <th>407</th>\n",
       "      <td>410 SUBJECT INDEX Normal distribution, 133, 13...</td>\n",
       "      <td>6</td>\n",
       "    </tr>\n",
       "    <tr>\n",
       "      <th>408</th>\n",
       "      <td>Probability distribution, 133. See also Binomi...</td>\n",
       "      <td>6</td>\n",
       "    </tr>\n",
       "    <tr>\n",
       "      <th>409</th>\n",
       "      <td>Resolution rule, 293-294 first-order, 296-297 ...</td>\n",
       "      <td>6</td>\n",
       "    </tr>\n",
       "    <tr>\n",
       "      <th>410</th>\n",
       "      <td>Split infomation, 73-74 Squashing function, 96...</td>\n",
       "      <td>6</td>\n",
       "    </tr>\n",
       "    <tr>\n",
       "      <th>411</th>\n",
       "      <td>Variables, in logic, 284, 285 Variance, 133, 1...</td>\n",
       "      <td>6</td>\n",
       "    </tr>\n",
       "  </tbody>\n",
       "</table>\n",
       "</div>"
      ],
      "text/plain": [
       "                                                  Text  Category\n",
       "84   80 MACHINE LEARNING Quinlan, J. R., & Rivest, ...         6\n",
       "111  keep in mind that the network weight vectors r...         6\n",
       "157  Geman, S., Bienenstock, E., & Doursat, R. (199...         6\n",
       "397  400 SUBJECT INDEX SUBJECT INDEX Page numbers i...         6\n",
       "399  CART system, 77 CASCADE-CORRELATION algorithm,...         6\n",
       "400  leave-one-out, 235 in neural network learning,...         6\n",
       "401  Entailment, 321n relationship with 8-subsumpti...         6\n",
       "402  extensions to, 258-259 ID5R algorithm, compari...         6\n",
       "403  Hypotheses, estimation of accuracy (continued)...         6\n",
       "404  of LMS algorithm, 64 of ROTE-LEARNER algorithm...         6\n",
       "405  LEARN-ONE-RULE algorithm: FOIL algorithm, comp...         6\n",
       "406  prediction of probabilities with, 167-170 MDP....         6\n",
       "407  410 SUBJECT INDEX Normal distribution, 133, 13...         6\n",
       "408  Probability distribution, 133. See also Binomi...         6\n",
       "409  Resolution rule, 293-294 first-order, 296-297 ...         6\n",
       "410  Split infomation, 73-74 Squashing function, 96...         6\n",
       "411  Variables, in logic, 284, 285 Variance, 133, 1...         6"
      ]
     },
     "execution_count": 70,
     "metadata": {},
     "output_type": "execute_result"
    }
   ],
   "source": [
    "dflabel[dflabel[\"Category\"]==6]"
   ]
  },
  {
   "cell_type": "code",
   "execution_count": 97,
   "metadata": {},
   "outputs": [],
   "source": [
    "import matplotlib.pyplot as plt"
   ]
  },
  {
   "cell_type": "code",
   "execution_count": 98,
   "metadata": {},
   "outputs": [],
   "source": [
    "list1=list(range(len(labels)))"
   ]
  },
  {
   "cell_type": "code",
   "execution_count": 1,
   "metadata": {},
   "outputs": [],
   "source": [
    "# for i in result:\n",
    "#     print(i[0])\n",
    "#     print(i[1])\n",
    "#     print(\"--------------------------------------------------\")"
   ]
  },
  {
   "cell_type": "code",
   "execution_count": 100,
   "metadata": {},
   "outputs": [
    {
     "data": {
      "text/plain": [
       "Index(['Text', 'Category'], dtype='object')"
      ]
     },
     "execution_count": 100,
     "metadata": {},
     "output_type": "execute_result"
    }
   ],
   "source": [
    "dflabel.columns"
   ]
  },
  {
   "cell_type": "code",
   "execution_count": 101,
   "metadata": {},
   "outputs": [],
   "source": [
    "dflabelSort=dflabel.sort_values(by=\"Category\")"
   ]
  },
  {
   "cell_type": "code",
   "execution_count": 102,
   "metadata": {},
   "outputs": [],
   "source": [
    "listCount=[]"
   ]
  },
  {
   "cell_type": "code",
   "execution_count": 103,
   "metadata": {},
   "outputs": [
    {
     "data": {
      "text/plain": [
       "16"
      ]
     },
     "execution_count": 103,
     "metadata": {},
     "output_type": "execute_result"
    }
   ],
   "source": [
    "l=list(labels)\n",
    "l.count(0)"
   ]
  },
  {
   "cell_type": "code",
   "execution_count": 104,
   "metadata": {},
   "outputs": [],
   "source": [
    "for i in range(23):\n",
    "    val=l.count(i)\n",
    "    listCount.append(val)"
   ]
  },
  {
   "cell_type": "code",
   "execution_count": 105,
   "metadata": {},
   "outputs": [],
   "source": [
    "lx=list(range(23))"
   ]
  },
  {
   "cell_type": "code",
   "execution_count": 106,
   "metadata": {},
   "outputs": [
    {
     "data": {
      "image/png": "[encoded data removed]",
      "text/plain": [
       "<Figure size 2000x1500 with 1 Axes>"
      ]
     },
     "metadata": {},
     "output_type": "display_data"
    }
   ],
   "source": [
    "plt.figure(figsize=[20,15])\n",
    "plt.bar(lx,listCount)\n",
    "plt.show()"
   ]
  },
  {
   "cell_type": "code",
   "execution_count": 107,
   "metadata": {},
   "outputs": [
    {
     "data": {
      "text/plain": [
       "412"
      ]
     },
     "execution_count": 107,
     "metadata": {},
     "output_type": "execute_result"
    }
   ],
   "source": [
    "sum(listCount)"
   ]
  }
 ],
 "metadata": {
  "kernelspec": {
   "display_name": "Python 3",
   "language": "python",
   "name": "python3"
  },
  "language_info": {
   "codemirror_mode": {
    "name": "ipython",
    "version": 3
   },
   "file_extension": ".py",
   "mimetype": "text/x-python",
   "name": "python",
   "nbconvert_exporter": "python",
   "pygments_lexer": "ipython3",
   "version": "3.12.0"
  }
 },
 "nbformat": 4,
 "nbformat_minor": 2
}
